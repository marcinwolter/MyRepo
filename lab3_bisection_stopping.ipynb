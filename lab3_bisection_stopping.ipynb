{
  "nbformat": 4,
  "nbformat_minor": 0,
  "metadata": {
    "colab": {
      "name": "lab3_bisection_stopping.ipynb",
      "provenance": [],
      "authorship_tag": "ABX9TyN+t53aPE2kchHoTD3YIodP",
      "include_colab_link": true
    },
    "kernelspec": {
      "name": "python3",
      "display_name": "Python 3"
    }
  },
  "cells": [
    {
      "cell_type": "markdown",
      "metadata": {
        "id": "view-in-github",
        "colab_type": "text"
      },
      "source": [
        "<a href=\"https://colab.research.google.com/github/marcinwolter/MyRepo/blob/master/lab3_bisection_stopping.ipynb\" target=\"_parent\"><img src=\"https://colab.research.google.com/assets/colab-badge.svg\" alt=\"Open In Colab\"/></a>"
      ]
    },
    {
      "cell_type": "markdown",
      "metadata": {
        "colab_type": "text",
        "id": "HOccJy245b3Z"
      },
      "source": [
        "# **Bisection method algorithm** with three stopping conditions"
      ]
    },
    {
      "cell_type": "code",
      "metadata": {
        "id": "mWVeHbYy5HAF",
        "colab_type": "code",
        "outputId": "e19ae62d-1298-40b5-8ec1-4423d1a16553",
        "colab": {
          "base_uri": "https://localhost:8080/",
          "height": 1000
        }
      },
      "source": [
        "# Defining Function\n",
        "def f(x):\n",
        "   return x**3-5*x-9\n",
        "\n",
        "# Implementing Bisection Method\n",
        "def bisection(x0,x1,ef,ex,nmax):\n",
        "   step = 1\n",
        "   print('\\n\\n*** BISECTION METHOD IMPLEMENTATION ***')\n",
        "   condition = True\n",
        "   \n",
        "   while condition:\n",
        "      x2 = (x0 + x1)/2\n",
        "      print('Iteration-%d, x2 = %0.6f and f(x2) = %0.6f' % (step, x2, f(x2)))\n",
        "      if f(x0) * f(x2) < 0:\n",
        "         x1 = x2\n",
        "      else:\n",
        "         x0 = x2\n",
        "\n",
        "      step = step + 1\n",
        "      condition1 = step<nmax\n",
        "      condition2 = abs(x1 - x0)>ex\n",
        "      condition3 = abs(f(x2)) > ef\n",
        "      condition = condition1 and condition2 and condition3\n",
        "      print('step = %d, |x1 - x0| = %0.6f, |f(x)| = %0.6f' % (step,abs(x1 - x0), abs(f(x2))))\n",
        "\n",
        "   print('\\nRequired Root is : %0.8f' % x2)\n",
        "\n",
        "\n",
        "# Input Section\n",
        "x0 = input('First Guess: ')\n",
        "x1 = input('Second Guess: ')\n",
        "ef = input('Tolerable Error of f TOLF: ')\n",
        "nmax = input('Max. number of iterations: ')\n",
        "ex = input('Tolerable error x TOLX: ')\n",
        "# Converting input to float\n",
        "x0 = float(x0)\n",
        "x1 = float(x1)\n",
        "ef = float(ef)\n",
        "nmax = int(nmax)\n",
        "ex = float(ex)\n",
        "#Note: You can combine above two section like this\n",
        "# x0 = float(input('First Guess: '))\n",
        "# x1 = float(input('Second Guess: '))\n",
        "# e = float(input('Tolerable Error: '))\n",
        "# Checking Correctness of initial guess values and bisecting\n",
        "if f(x0) * f(x1) > 0.0:\n",
        "   print('Given guess values do not bracket the root.')\n",
        "   print('Try Again with different guess values.')\n",
        "else:\n",
        "   bisection(x0,x1,ef,ex,nmax)\n"
      ],
      "execution_count": 1,
      "outputs": [
        {
          "output_type": "stream",
          "text": [
            "First Guess: 10\n",
            "Second Guess: -10\n",
            "Tolerable Error of f TOLF: 0.00000001\n",
            "Max. number of iterations: 30\n",
            "Tolerable error x TOLX: 0.000001\n",
            "\n",
            "\n",
            "*** BISECTION METHOD IMPLEMENTATION ***\n",
            "Iteration-1, x2 = 0.000000 and f(x2) = -9.000000\n",
            "step = 2, |x1 - x0| = 10.000000, |f(x)| = 9.000000\n",
            "Iteration-2, x2 = 5.000000 and f(x2) = 91.000000\n",
            "step = 3, |x1 - x0| = 5.000000, |f(x)| = 91.000000\n",
            "Iteration-3, x2 = 2.500000 and f(x2) = -5.875000\n",
            "step = 4, |x1 - x0| = 2.500000, |f(x)| = 5.875000\n",
            "Iteration-4, x2 = 3.750000 and f(x2) = 24.984375\n",
            "step = 5, |x1 - x0| = 1.250000, |f(x)| = 24.984375\n",
            "Iteration-5, x2 = 3.125000 and f(x2) = 5.892578\n",
            "step = 6, |x1 - x0| = 0.625000, |f(x)| = 5.892578\n",
            "Iteration-6, x2 = 2.812500 and f(x2) = -0.815186\n",
            "step = 7, |x1 - x0| = 0.312500, |f(x)| = 0.815186\n",
            "Iteration-7, x2 = 2.968750 and f(x2) = 2.321259\n",
            "step = 8, |x1 - x0| = 0.156250, |f(x)| = 2.321259\n",
            "Iteration-8, x2 = 2.890625 and f(x2) = 0.700108\n",
            "step = 9, |x1 - x0| = 0.078125, |f(x)| = 0.700108\n",
            "Iteration-9, x2 = 2.851562 and f(x2) = -0.070592\n",
            "step = 10, |x1 - x0| = 0.039062, |f(x)| = 0.070592\n",
            "Iteration-10, x2 = 2.871094 and f(x2) = 0.311472\n",
            "step = 11, |x1 - x0| = 0.019531, |f(x)| = 0.311472\n",
            "Iteration-11, x2 = 2.861328 and f(x2) = 0.119621\n",
            "step = 12, |x1 - x0| = 0.009766, |f(x)| = 0.119621\n",
            "Iteration-12, x2 = 2.856445 and f(x2) = 0.024310\n",
            "step = 13, |x1 - x0| = 0.004883, |f(x)| = 0.024310\n",
            "Iteration-13, x2 = 2.854004 and f(x2) = -0.023192\n",
            "step = 14, |x1 - x0| = 0.002441, |f(x)| = 0.023192\n",
            "Iteration-14, x2 = 2.855225 and f(x2) = 0.000546\n",
            "step = 15, |x1 - x0| = 0.001221, |f(x)| = 0.000546\n",
            "Iteration-15, x2 = 2.854614 and f(x2) = -0.011326\n",
            "step = 16, |x1 - x0| = 0.000610, |f(x)| = 0.011326\n",
            "Iteration-16, x2 = 2.854919 and f(x2) = -0.005391\n",
            "step = 17, |x1 - x0| = 0.000305, |f(x)| = 0.005391\n",
            "Iteration-17, x2 = 2.855072 and f(x2) = -0.002423\n",
            "step = 18, |x1 - x0| = 0.000153, |f(x)| = 0.002423\n",
            "Iteration-18, x2 = 2.855148 and f(x2) = -0.000938\n",
            "step = 19, |x1 - x0| = 0.000076, |f(x)| = 0.000938\n",
            "Iteration-19, x2 = 2.855186 and f(x2) = -0.000196\n",
            "step = 20, |x1 - x0| = 0.000038, |f(x)| = 0.000196\n",
            "Iteration-20, x2 = 2.855206 and f(x2) = 0.000175\n",
            "step = 21, |x1 - x0| = 0.000019, |f(x)| = 0.000175\n",
            "Iteration-21, x2 = 2.855196 and f(x2) = -0.000011\n",
            "step = 22, |x1 - x0| = 0.000010, |f(x)| = 0.000011\n",
            "Iteration-22, x2 = 2.855201 and f(x2) = 0.000082\n",
            "step = 23, |x1 - x0| = 0.000005, |f(x)| = 0.000082\n",
            "Iteration-23, x2 = 2.855198 and f(x2) = 0.000036\n",
            "step = 24, |x1 - x0| = 0.000002, |f(x)| = 0.000036\n",
            "Iteration-24, x2 = 2.855197 and f(x2) = 0.000013\n",
            "step = 25, |x1 - x0| = 0.000001, |f(x)| = 0.000013\n",
            "Iteration-25, x2 = 2.855197 and f(x2) = 0.000001\n",
            "step = 26, |x1 - x0| = 0.000001, |f(x)| = 0.000001\n",
            "\n",
            "Required Root is : 2.85519660\n"
          ],
          "name": "stdout"
        }
      ]
    }
  ]
}