{
  "nbformat": 4,
  "nbformat_minor": 0,
  "metadata": {
    "colab": {
      "name": "lab3_NewtonMethod.ipynb",
      "provenance": [],
      "authorship_tag": "ABX9TyM0MUFuICfgbJX2ikCG5uRt",
      "include_colab_link": true
    },
    "kernelspec": {
      "name": "python3",
      "display_name": "Python 3"
    }
  },
  "cells": [
    {
      "cell_type": "markdown",
      "metadata": {
        "id": "view-in-github",
        "colab_type": "text"
      },
      "source": [
        "<a href=\"https://colab.research.google.com/github/marcinwolter/MyRepo/blob/master/lab3_NewtonMethod_manyroots.ipynb\" target=\"_parent\"><img src=\"https://colab.research.google.com/assets/colab-badge.svg\" alt=\"Open In Colab\"/></a>"
      ]
    },
    {
      "cell_type": "markdown",
      "metadata": {
        "id": "uKbb5UZXCUMZ",
        "colab_type": "text"
      },
      "source": [
        "# **Newton's method**"
      ]
    },
    {
      "cell_type": "code",
      "metadata": {
        "id": "9exTWM9yCFPT",
        "colab_type": "code",
        "outputId": "b21c4e1f-8797-4a1c-cfe5-84110db0cb62",
        "colab": {
          "base_uri": "https://localhost:8080/",
          "height": 330
        }
      },
      "source": [
        "# Defining Function\n",
        "import numpy as np\n",
        "\n",
        "def f(x):\n",
        "   return np.sin(4*x)*x\n",
        "\n",
        "# Defining derivative of function\n",
        "def g(x):\n",
        "   return np.sin(4*x)+4*np.cos(4*x)*x\n",
        "\n",
        "# Implementing Newton Method\n",
        "def newton(x0,e,N):\n",
        "   print('\\n\\n*** NEWTON METHOD IMPLEMENTATION ***')\n",
        "   step = 1\n",
        "   flag = 1\n",
        "   condition = True\n",
        "   while condition:\n",
        "      if g(x0) == 0.0:\n",
        "         print('Divide by zero error!')\n",
        "         break\n",
        "      x1 = x0 - f(x0)/g(x0)\n",
        "      print('Iteration-%d, x1 = %0.6f and f(x1) = %0.6f' % (step, x1, f(x1)))\n",
        "      x0 = x1\n",
        "      step = step + 1\n",
        "      if step > N:\n",
        "         flag = 0\n",
        "         break\n",
        "      condition = abs(f(x1)) > e\n",
        "      if flag==1:\n",
        "         print('\\nRequired root is: %0.8f' % x1)\n",
        "      else:\n",
        "         print('\\nNot Convergent.')\n",
        "   return x1      \n",
        "         \n",
        "# Input Section\n",
        "x0 = input('Enter Guess: ')\n",
        "e = input('Tolerable Error: ')\n",
        "N = input('Maximum Step: ')\n",
        "# Converting x0 and e to float\n",
        "x0 = float(x0)\n",
        "e = float(e)\n",
        "# Converting N to integer\n",
        "N = int(N)\n",
        "#Note: You can combine above three section like this\n",
        "# x0 = float(input('Enter Guess: '))\n",
        "# e = float(input('Tolerable Error: '))\n",
        "# N = int(input('Maximum Step: '))\n",
        "# Starting Newton Method\n",
        "x1 = newton(x0,e,N)\n"
      ],
      "execution_count": 6,
      "outputs": [
        {
          "output_type": "stream",
          "text": [
            "Enter Guess: 0.5\n",
            "Tolerable Error: 0.0000001\n",
            "Maximum Step: 10\n",
            "\n",
            "\n",
            "*** NEWTON METHOD IMPLEMENTATION ***\n",
            "Iteration-1, x1 = -5.404241 and f(x1) = 1.975326\n",
            "\n",
            "Required root is: -5.40424092\n",
            "Iteration-2, x1 = -5.504229 and f(x1) = -0.141806\n",
            "\n",
            "Required root is: -5.50422863\n",
            "Iteration-3, x1 = -5.497793 and f(x1) = -0.000134\n",
            "\n",
            "Required root is: -5.49779325\n",
            "Iteration-4, x1 = -5.497787 and f(x1) = -0.000000\n",
            "\n",
            "Required root is: -5.49778714\n"
          ],
          "name": "stdout"
        }
      ]
    },
    {
      "cell_type": "code",
      "metadata": {
        "id": "rpYaM89IARCJ",
        "colab_type": "code",
        "outputId": "3a8fe357-f41c-4137-8409-ae7d4c59d255",
        "colab": {
          "base_uri": "https://localhost:8080/",
          "height": 265
        }
      },
      "source": [
        "#plot function\n",
        "\n",
        "# Import pyplot as plt\n",
        "import matplotlib.pyplot as plt\n",
        "\n",
        "\n",
        "t = np.arange(min(x1,x0)-2, max(x1,x0)+2, 0.01)\n",
        "\n",
        "#plot the function\n",
        "ssin = f(t)\n",
        "zero = [0] * len(t)\n",
        "plt.plot(t, ssin, lw=2, label='function')\n",
        "plt.plot(t, zero, lw=3)\n",
        "\n",
        "# plot the root found\n",
        "plt.plot(x1, 0, 'o', label='root')\n",
        "plt.plot(x0, 0, 'o', label='starting guess')\n",
        "\n",
        "plt.legend()\n",
        "plt.show()"
      ],
      "execution_count": 9,
      "outputs": [
        {
          "output_type": "display_data",
          "data": {
            "image/png": "[encoded data removed]",
            "text/plain": [
              "<Figure size 432x288 with 1 Axes>"
            ]
          },
          "metadata": {
            "tags": []
          }
        }
      ]
    }
  ]
}