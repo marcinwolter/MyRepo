{
  "nbformat": 4,
  "nbformat_minor": 0,
  "metadata": {
    "colab": {
      "name": "lab3_NewtonMethod.ipynb",
      "provenance": [],
      "authorship_tag": "ABX9TyMDnZNVaqPSVx82lWJnbCsL",
      "include_colab_link": true
    },
    "kernelspec": {
      "name": "python3",
      "display_name": "Python 3"
    }
  },
  "cells": [
    {
      "cell_type": "markdown",
      "metadata": {
        "id": "view-in-github",
        "colab_type": "text"
      },
      "source": [
        "<a href=\"https://colab.research.google.com/github/marcinwolter/MyRepo/blob/master/lab3_NewtonMethod_manyroots.ipynb\" target=\"_parent\"><img src=\"https://colab.research.google.com/assets/colab-badge.svg\" alt=\"Open In Colab\"/></a>"
      ]
    },
    {
      "cell_type": "markdown",
      "metadata": {
        "id": "uKbb5UZXCUMZ",
        "colab_type": "text"
      },
      "source": [
        "# **Newton's method**"
      ]
    },
    {
      "cell_type": "code",
      "metadata": {
        "id": "9exTWM9yCFPT",
        "colab_type": "code",
        "outputId": "c4a0d181-6009-41aa-89eb-51485ff0d199",
        "colab": {
          "base_uri": "https://localhost:8080/",
          "height": 607
        }
      },
      "source": [
        "# Defining Function\n",
        "import numpy as np\n",
        "\n",
        "def f(x):\n",
        "   return np.sin(4*x)*x\n",
        "\n",
        "# Defining derivative of function\n",
        "def g(x):\n",
        "   return np.sin(4*x)+4*np.cos(4*x)*x\n",
        "\n",
        "# Implementing Newton Method\n",
        "def newton(x0,e,N):\n",
        "   print('\\n\\n*** NEWTON METHOD IMPLEMENTATION ***')\n",
        "   step = 1\n",
        "   flag = 1\n",
        "   condition = True\n",
        "   while condition:\n",
        "      if g(x0) == 0.0:\n",
        "         print('Divide by zero error!')\n",
        "         break\n",
        "      x1 = x0 - f(x0)/g(x0)\n",
        "      print('Iteration-%d, x1 = %0.6f and f(x1) = %0.6f' % (step, x1, f(x1)))\n",
        "      x0 = x1\n",
        "      step = step + 1\n",
        "      if step > N:\n",
        "         flag = 0\n",
        "         break\n",
        "      condition = abs(f(x1)) > e\n",
        "      if flag==1:\n",
        "         print('\\nRequired root is: %0.8f' % x1)\n",
        "      else:\n",
        "         print('\\nNot Convergent.')\n",
        "         \n",
        "# Input Section\n",
        "x0 = input('Enter Guess: ')\n",
        "e = input('Tolerable Error: ')\n",
        "N = input('Maximum Step: ')\n",
        "# Converting x0 and e to float\n",
        "x0 = float(x0)\n",
        "e = float(e)\n",
        "# Converting N to integer\n",
        "N = int(N)\n",
        "#Note: You can combine above three section like this\n",
        "# x0 = float(input('Enter Guess: '))\n",
        "# e = float(input('Tolerable Error: '))\n",
        "# N = int(input('Maximum Step: '))\n",
        "# Starting Newton Method\n",
        "newton(x0,e,N)\n"
      ],
      "execution_count": 10,
      "outputs": [
        {
          "output_type": "stream",
          "text": [
            "Enter Guess: 0.1\n",
            "Tolerable Error: 0.00000001\n",
            "Maximum Step: 10\n",
            "\n",
            "\n",
            "*** NEWTON METHOD IMPLEMENTATION ***\n",
            "Iteration-1, x1 = 0.048615 and f(x1) = 0.009394\n",
            "\n",
            "Required root is: 0.04861489\n",
            "Iteration-2, x1 = 0.024153 and f(x1) = 0.002330\n",
            "\n",
            "Required root is: 0.02415288\n",
            "Iteration-3, x1 = 0.012058 and f(x1) = 0.000581\n",
            "\n",
            "Required root is: 0.01205761\n",
            "Iteration-4, x1 = 0.006026 and f(x1) = 0.000145\n",
            "\n",
            "Required root is: 0.00602647\n",
            "Iteration-5, x1 = 0.003013 and f(x1) = 0.000036\n",
            "\n",
            "Required root is: 0.00301294\n",
            "Iteration-6, x1 = 0.001506 and f(x1) = 0.000009\n",
            "\n",
            "Required root is: 0.00150643\n",
            "Iteration-7, x1 = 0.000753 and f(x1) = 0.000002\n",
            "\n",
            "Required root is: 0.00075321\n",
            "Iteration-8, x1 = 0.000377 and f(x1) = 0.000001\n",
            "\n",
            "Required root is: 0.00037661\n",
            "Iteration-9, x1 = 0.000188 and f(x1) = 0.000000\n",
            "\n",
            "Required root is: 0.00018830\n",
            "Iteration-10, x1 = 0.000094 and f(x1) = 0.000000\n"
          ],
          "name": "stdout"
        }
      ]
    },
    {
      "cell_type": "code",
      "metadata": {
        "id": "rpYaM89IARCJ",
        "colab_type": "code",
        "colab": {
          "base_uri": "https://localhost:8080/",
          "height": 265
        },
        "outputId": "615ef007-f466-49f1-9529-c9fae48ace22"
      },
      "source": [
        "#plot function\n",
        "\n",
        "# Import pyplot as plt\n",
        "import matplotlib.pyplot as plt\n",
        "\n",
        "\n",
        "t = np.arange(x0-2, x0+2, 0.01)\n",
        "\n",
        "#plot the function\n",
        "ssin = f(t)\n",
        "zero = [0] * len(t)\n",
        "plt.plot(t, ssin, lw=2)\n",
        "plt.plot(t, zero, lw=3)\n",
        "\n",
        "\n",
        "plt.show()"
      ],
      "execution_count": 11,
      "outputs": [
        {
          "output_type": "display_data",
          "data": {
            "image/png": "[encoded data removed]",
            "text/plain": [
              "<Figure size 432x288 with 1 Axes>"
            ]
          },
          "metadata": {
            "tags": []
          }
        }
      ]
    }
  ]
}